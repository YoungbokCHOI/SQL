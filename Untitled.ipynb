{
 "cells": [
  {
   "cell_type": "code",
   "execution_count": 1,
   "id": "0f2ac46a-2ca7-4e82-bdf0-804891e774c7",
   "metadata": {},
   "outputs": [],
   "source": [
    "#Parch, Sibsp 시각확 (부모자삭, 형제배우자)"
   ]
  },
  {
   "cell_type": "code",
   "execution_count": 2,
   "id": "7f33c2d7-efb5-4fbe-ae38-cb32cf5b9fad",
   "metadata": {},
   "outputs": [],
   "source": [
    "import sqlite3 as sql"
   ]
  },
  {
   "cell_type": "code",
   "execution_count": 3,
   "id": "5852af44-432c-43ac-bccf-52a3318238e6",
   "metadata": {},
   "outputs": [],
   "source": [
    "def db_connet(db_name):\n",
    "    conn=sqlliste3.connet(db_name)\n",
    "    return conn"
   ]
  },
  {
   "cell_type": "code",
   "execution_count": 4,
   "id": "b35b7386-e74d-4e20-8aad-fd08309af795",
   "metadata": {},
   "outputs": [
    {
     "ename": "NameError",
     "evalue": "name 'conn' is not defined",
     "output_type": "error",
     "traceback": [
      "\u001b[1;31m---------------------------------------------------------------------------\u001b[0m",
      "\u001b[1;31mNameError\u001b[0m                                 Traceback (most recent call last)",
      "Cell \u001b[1;32mIn[4], line 1\u001b[0m\n\u001b[1;32m----> 1\u001b[0m \u001b[43mconn\u001b[49m\n",
      "\u001b[1;31mNameError\u001b[0m: name 'conn' is not defined"
     ]
    }
   ],
   "source": [
    "conn = db_connect("
   ]
  },
  {
   "cell_type": "code",
   "execution_count": null,
   "id": "67c7e8bc-ee59-4e5e-84f8-414a713b12a8",
   "metadata": {},
   "outputs": [],
   "source": []
  }
 ],
 "metadata": {
  "kernelspec": {
   "display_name": "Python 3 (ipykernel)",
   "language": "python",
   "name": "python3"
  },
  "language_info": {
   "codemirror_mode": {
    "name": "ipython",
    "version": 3
   },
   "file_extension": ".py",
   "mimetype": "text/x-python",
   "name": "python",
   "nbconvert_exporter": "python",
   "pygments_lexer": "ipython3",
   "version": "3.11.9"
  }
 },
 "nbformat": 4,
 "nbformat_minor": 5
}
